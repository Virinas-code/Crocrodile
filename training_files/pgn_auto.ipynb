{
  "cells": [
    {
      "cell_type": "code",
      "source": [
        "#!/usr/bin/env python3\n",
        "# -*- coding: utf-8 -*-\n",
        "\"\"\"\n",
        "Crocrodile Training Files.\n",
        "\n",
        "PGN Auto : convert a PGN to a list of FEN and good moves (UCI Format)\n",
        "\"\"\"\n",
        "# import chess  # Python Chess library\n",
        "\n",
        "print(\"PGN Auto - Convert a PGN to a list of FEN and good moves (UCI Format)\")\n",
        "print(\"Enter nothing to quit\")\n",
        "\n",
        "PGN_FILE = None\n",
        "\n",
        "while PGN_FILE != \"\":\n",
        "    PGN_FILE = input(\"PGN file location : \")\n",
        "    try:\n",
        "        PGN_FILE = open(PGN_FILE)\n",
        "    except FileNotFoundError:\n",
        "        print(f\"Error during reading file : File not found : {PGN_FILE}\")\n",
        "    except (UnicodeError, UnicodeDecodeError):\n",
        "        print(f\"Error during reading file : Invalid characters in {PGN_FILE}\")"
      ],
      "outputs": [],
      "execution_count": null,
      "metadata": {
        "jupyter": {
          "source_hidden": false,
          "outputs_hidden": false
        },
        "nteract": {
          "transient": {
            "deleting": false
          }
        }
      }
    }
  ],
  "metadata": {
    "kernelspec": {
      "argv": [
        "python",
        "-m",
        "ipykernel_launcher",
        "-f",
        "{connection_file}"
      ],
      "display_name": "Python 3",
      "language": "python",
      "name": "python3"
    }
  },
  "nbformat": 4,
  "nbformat_minor": 0
}