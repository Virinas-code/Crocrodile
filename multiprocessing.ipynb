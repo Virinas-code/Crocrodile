{
 "cells": [
  {
   "cell_type": "markdown",
   "id": "dutch-poultry",
   "metadata": {},
   "source": [
    "# Multiprocessing"
   ]
  },
  {
   "cell_type": "code",
   "execution_count": 13,
   "id": "developing-introduction",
   "metadata": {},
   "outputs": [
    {
     "name": "stdout",
     "output_type": "stream",
     "text": [
      "22.09763503074646\n"
     ]
    }
   ],
   "source": [
    "import time\n",
    "def complex_task(n):\n",
    "    if(n <= 1):\n",
    "        return n\n",
    "    else:\n",
    "        return (complex_task(n-1) + complex_task(n-2))\n",
    "t = time.time()\n",
    "complex_task(38)\n",
    "complex_task(38)\n",
    "print(time.time() - t)"
   ]
  },
  {
   "cell_type": "code",
   "execution_count": 14,
   "id": "checked-mills",
   "metadata": {},
   "outputs": [
    {
     "name": "stdout",
     "output_type": "stream",
     "text": [
      "11.095624446868896\n"
     ]
    }
   ],
   "source": [
    "import multiprocessing\n",
    "t = time.time()\n",
    "p1 = multiprocessing.Process(target=complex_task, args=(38,))\n",
    "p2 = multiprocessing.Process(target=complex_task, args=(38,))\n",
    "p1.start()\n",
    "p2.start()\n",
    "p1.join()\n",
    "p2.join()\n",
    "print(time.time() - t)"
   ]
  }
 ],
 "metadata": {
  "kernelspec": {
   "display_name": "Python 3 (ipykernel)",
   "language": "python",
   "name": "python3"
  },
  "language_info": {
   "codemirror_mode": {
    "name": "ipython",
    "version": 3
   },
   "file_extension": ".py",
   "mimetype": "text/x-python",
   "name": "python",
   "nbconvert_exporter": "python",
   "pygments_lexer": "ipython3",
   "version": "3.9.2"
  }
 },
 "nbformat": 4,
 "nbformat_minor": 5
}
